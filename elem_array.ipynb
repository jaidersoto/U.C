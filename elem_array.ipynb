{
  "nbformat": 4,
  "nbformat_minor": 0,
  "metadata": {
    "colab": {
      "provenance": [],
      "authorship_tag": "ABX9TyNo9hkzIu/XOXwMjwpF67Py",
      "include_colab_link": true
    },
    "kernelspec": {
      "name": "python3",
      "display_name": "Python 3"
    },
    "language_info": {
      "name": "python"
    }
  },
  "cells": [
    {
      "cell_type": "markdown",
      "metadata": {
        "id": "view-in-github",
        "colab_type": "text"
      },
      "source": [
        "<a href=\"https://colab.research.google.com/github/jaidersoto/U.C/blob/main/elem_array.ipynb\" target=\"_parent\"><img src=\"https://colab.research.google.com/assets/colab-badge.svg\" alt=\"Open In Colab\"/></a>"
      ]
    },
    {
      "cell_type": "code",
      "source": [
        "from array import array\n",
        "f = array('f',[1.0, 2, 3.14, float('-inf'), float('nan'), 6, 8.9, 2.3, 5])\n",
        "f\n",
        "def elem(A, i, j):\n",
        "    # Obtener el elemento i, j de la matriz A\n",
        "    if 0 <= i < 3 and 0 <= j < 3:\n",
        "        # Calcular el índice correspondiente en la matriz 1D\n",
        "        index = i * 3 + j\n",
        "        return A[index]\n",
        "    else:\n",
        "        raise IndexError(\"Índices fuera de rango para una matriz 3x3\")\n",
        "# Obtener el elemento en la posición (x, y)\n",
        "x= 0\n",
        "y = 0\n",
        "element = elem(f, x, y)\n",
        "\n",
        "# Imprimir el resultado\n",
        "print(f\"Elemento en la posición ({x}, {y}): {element}\")\n",
        "print(f)"
      ],
      "metadata": {
        "colab": {
          "base_uri": "https://localhost:8080/"
        },
        "id": "tBqKGMyCt43L",
        "outputId": "e6d273bc-dc3a-4474-9fcf-fec60a0719a1"
      },
      "execution_count": null,
      "outputs": [
        {
          "output_type": "stream",
          "name": "stdout",
          "text": [
            "Elemento en la posición (0, 0): 1.0\n",
            "array('f', [1.0, 2.0, 3.140000104904175, -inf, nan, 6.0, 8.899999618530273, 2.299999952316284, 5.0])\n"
          ]
        }
      ]
    },
    {
      "cell_type": "code",
      "source": [
        " # Intercambiar los renglones i y j de la matriz A\n",
        "\n",
        "def swap_rows(A, i, j):\n",
        "    # Copia de la matriz original\n",
        "    S = array('f', A)\n",
        "    S[i*3:i*3+3], S[j*3:j*3+3] = S[j*3:j*3+3], S[i*3:i*3+3]\n",
        "    return S\n",
        "sw = swap_rows(f, 0, 1)\n",
        "print(\"\\nMatriz después de las operaciones:\")\n",
        "print(sw)"
      ],
      "metadata": {
        "colab": {
          "base_uri": "https://localhost:8080/"
        },
        "id": "SpF0bM0L0E1j",
        "outputId": "d8fbda03-3622-41a0-fb9e-eae719fa0547"
      },
      "execution_count": null,
      "outputs": [
        {
          "output_type": "stream",
          "name": "stdout",
          "text": [
            "\n",
            "Matriz después de las operaciones:\n",
            "array('f', [-inf, nan, 6.0, 1.0, 2.0, 3.140000104904175, 8.899999618530273, 2.299999952316284, 5.0])\n"
          ]
        }
      ]
    },
    {
      "cell_type": "code",
      "source": [
        "# Multiplicar el renglón dado por el escalar\n",
        "\n",
        "def multiply_row_by_scalar(A, row_index, scalar):\n",
        "    M = array('f', A)\n",
        "    for j in range(3):\n",
        "        M[row_index * 3 + j] *= scalar\n",
        "    return M\n",
        "\n",
        "# Multiplicar el primer renglón por un escalar (por ejemplo, 2)\n",
        "row_to_multiply = 0\n",
        "scalar_factor = 2\n",
        "\n",
        "mu = multiply_row_by_scalar(f, row_to_multiply, scalar_factor)\n",
        "\n",
        "# Imprimir la matriz después de la operación\n",
        "print(\"\\nMatriz después de multiplicar el primer renglón por\", scalar_factor, \":\")\n",
        "print(mu)"
      ],
      "metadata": {
        "colab": {
          "base_uri": "https://localhost:8080/"
        },
        "id": "U9Mdth3l1-B5",
        "outputId": "35d63a3f-1d47-4403-ec33-0441bea7454b"
      },
      "execution_count": null,
      "outputs": [
        {
          "output_type": "stream",
          "name": "stdout",
          "text": [
            "\n",
            "Matriz después de multiplicar el primer renglón por 2 :\n",
            "array('f', [2.0, 4.0, 6.28000020980835, -inf, nan, 6.0, 8.899999618530273, 2.299999952316284, 5.0])\n"
          ]
        }
      ]
    },
    {
      "cell_type": "code",
      "source": [
        "def add_multiple_of_row(A, source_row, target_row, scalar):\n",
        "    L = array('f', A)\n",
        "    # Sumar un múltiplo del renglón fuente al renglón objetivo en la matriz original\n",
        "    for j in range(3):\n",
        "        L[target_row * 3 + j] += scalar * elem(L, source_row, j)\n",
        "    return L\n",
        "\n",
        "# Restar el doble del primer renglón al tercer renglón\n",
        "source_row = 0\n",
        "target_row = 2\n",
        "scalar_factor = -2\n",
        "sn = add_multiple_of_row(f, source_row, target_row, scalar_factor)\n",
        "\n",
        "# Imprimir la matriz después de la operación\n",
        "print(\"\\nMatriz después de sumar el doble del primer renglón al segundo renglón:\")\n",
        "print(sn)\n"
      ],
      "metadata": {
        "colab": {
          "base_uri": "https://localhost:8080/"
        },
        "id": "N9uq6SdnBQ0w",
        "outputId": "f1ff494c-2940-4778-8f5e-ef1a2ee7e9a3"
      },
      "execution_count": null,
      "outputs": [
        {
          "output_type": "stream",
          "name": "stdout",
          "text": [
            "\n",
            "Matriz después de sumar el doble del primer renglón al segundo renglón:\n",
            "array('f', [1.0, 2.0, 3.140000104904175, -inf, nan, 6.0, 6.899999618530273, -1.7000000476837158, -1.2800002098083496])\n"
          ]
        }
      ]
    },
    {
      "cell_type": "markdown",
      "source": [
        "#Comprobación usando la libreria sympy de python"
      ],
      "metadata": {
        "id": "V4Potex47Vln"
      }
    },
    {
      "cell_type": "code",
      "source": [
        "from sympy import Matrix, oo, nan\n",
        "\n",
        "# Definir la matriz utilizando SymPy\n",
        "B = Matrix([\n",
        "    [1.0, 2, 3.14],\n",
        "    [-oo, nan, 6],\n",
        "    [8.9, 2.3, 5]\n",
        "])\n",
        "\n",
        "# Imprimir la matriz\n",
        "print(\"Matriz B:\")\n",
        "B"
      ],
      "metadata": {
        "colab": {
          "base_uri": "https://localhost:8080/",
          "height": 95
        },
        "id": "7qWFoO0Y7zzb",
        "outputId": "a3b9636f-0c86-4644-e5bf-26ad1e3e70a3"
      },
      "execution_count": null,
      "outputs": [
        {
          "output_type": "stream",
          "name": "stdout",
          "text": [
            "Matriz B:\n"
          ]
        },
        {
          "output_type": "execute_result",
          "data": {
            "text/plain": [
              "Matrix([\n",
              "[1.0,   2, 3.14],\n",
              "[-oo, nan,    6],\n",
              "[8.9, 2.3,    5]])"
            ],
            "text/latex": "$\\displaystyle \\left[\\begin{matrix}1.0 & 2 & 3.14\\\\-\\infty & \\text{NaN} & 6\\\\8.9 & 2.3 & 5\\end{matrix}\\right]$"
          },
          "metadata": {},
          "execution_count": 103
        }
      ]
    },
    {
      "cell_type": "code",
      "source": [
        "C = B[:,:]\n",
        "# Intercambiar el renglón 0 con el renglón 3,\n",
        "# R0 <-> R3\n",
        "\n",
        "C.row_swap(0,1)\n",
        "C"
      ],
      "metadata": {
        "colab": {
          "base_uri": "https://localhost:8080/",
          "height": 78
        },
        "id": "DELiXpNqCCDG",
        "outputId": "99a1a59f-7029-4745-92ff-c8d7367dd4d1"
      },
      "execution_count": null,
      "outputs": [
        {
          "output_type": "execute_result",
          "data": {
            "text/plain": [
              "Matrix([\n",
              "[-oo, nan,    6],\n",
              "[1.0,   2, 3.14],\n",
              "[8.9, 2.3,    5]])"
            ],
            "text/latex": "$\\displaystyle \\left[\\begin{matrix}-\\infty & \\text{NaN} & 6\\\\1.0 & 2 & 3.14\\\\8.9 & 2.3 & 5\\end{matrix}\\right]$"
          },
          "metadata": {},
          "execution_count": 106
        }
      ]
    },
    {
      "cell_type": "code",
      "source": [
        "D = B[:,:]\n",
        "# Multiplicar el renglón 0  por un 2,\n",
        "# 2R0 -> R0\n",
        "\n",
        "D[0,:] = 2 *D[0,:]   #Si se contrae cambia las fracciones por decimales\n",
        "D"
      ],
      "metadata": {
        "colab": {
          "base_uri": "https://localhost:8080/",
          "height": 78
        },
        "id": "P8xrr706CsNp",
        "outputId": "2bdb3d77-f93f-4fea-d1ed-f7e213d1e683"
      },
      "execution_count": null,
      "outputs": [
        {
          "output_type": "execute_result",
          "data": {
            "text/plain": [
              "Matrix([\n",
              "[2.0,   4, 6.28],\n",
              "[-oo, nan,    6],\n",
              "[8.9, 2.3,    5]])"
            ],
            "text/latex": "$\\displaystyle \\left[\\begin{matrix}2.0 & 4 & 6.28\\\\-\\infty & \\text{NaN} & 6\\\\8.9 & 2.3 & 5\\end{matrix}\\right]$"
          },
          "metadata": {},
          "execution_count": 109
        }
      ]
    },
    {
      "cell_type": "code",
      "source": [
        "E = B[:,:]\n",
        "# Resta 2 veces el renglón 0 al renglón 2,\n",
        "# -2R0 + R1 -> R1\n",
        "\n",
        "E[2,:] -= E[0,:]*2\n",
        "E"
      ],
      "metadata": {
        "colab": {
          "base_uri": "https://localhost:8080/",
          "height": 78
        },
        "id": "bKimS56-DM8m",
        "outputId": "49e261bb-b465-45e4-a435-8a64a3645e24"
      },
      "execution_count": null,
      "outputs": [
        {
          "output_type": "execute_result",
          "data": {
            "text/plain": [
              "Matrix([\n",
              "[1.0,    2,  3.14],\n",
              "[-oo,  nan,     6],\n",
              "[6.9, -1.7, -1.28]])"
            ],
            "text/latex": "$\\displaystyle \\left[\\begin{matrix}1.0 & 2 & 3.14\\\\-\\infty & \\text{NaN} & 6\\\\6.9 & -1.7 & -1.28\\end{matrix}\\right]$"
          },
          "metadata": {},
          "execution_count": 115
        }
      ]
    }
  ]
}